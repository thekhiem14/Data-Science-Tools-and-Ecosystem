{
  "metadata": {
    "kernelspec": {
      "name": "python",
      "display_name": "Python (Pyodide)",
      "language": "python"
    },
    "language_info": {
      "codemirror_mode": {
        "name": "python",
        "version": 3
      },
      "file_extension": ".py",
      "mimetype": "text/x-python",
      "name": "python",
      "nbconvert_exporter": "python",
      "pygments_lexer": "ipython3",
      "version": "3.8"
    }
  },
  "nbformat_minor": 5,
  "nbformat": 4,
  "cells": [
    {
      "id": "accc9ebc-016e-4659-824d-a8db9a875ce7",
      "cell_type": "markdown",
      "source": "# Data Science Tools and Ecosystem",
      "metadata": {}
    },
    {
      "id": "435eb820-1ef0-4b2e-b663-63dd5181c339",
      "cell_type": "markdown",
      "source": "In this notebook, Data Science Tools and Ecosystem are summarized.",
      "metadata": {}
    },
    {
      "id": "ff5e62bd-977f-4597-96eb-a6eb8cadd55b",
      "cell_type": "markdown",
      "source": "**Objectives:**\n\n- List popular languages for Data Science\n- Discuss commonly used libraries in data science\n- Explore open-source data science development tools\n- Understand the importance of commenting in Python\n- Practice creating markdown tables in Jupyter Notebook",
      "metadata": {}
    },
    {
      "id": "c106735d-4533-4cdd-b280-5792c2e2e593",
      "cell_type": "markdown",
      "source": "Some of the popular languages that Data Scientists use are:\n1. Python\n2. R\n3. SQL\n4. Java\n5. Scala",
      "metadata": {}
    },
    {
      "id": "14fb2ab4-b5c2-4a90-9059-d7cbf52e6870",
      "cell_type": "markdown",
      "source": "Some of the commonly used libraries used by Data Scientists include:\n1. NumPy\n2. Pandas\n3. Matplotlib\n4. Scikit-learn",
      "metadata": {}
    },
    {
      "id": "4c902b8e-40bf-4331-b9a2-23313a4eac12",
      "cell_type": "markdown",
      "source": "| Data Science Tools |\n|------------------ |\n| Jupyter Notebook  |\n| RStudio           |\n| Apache Spark      |",
      "metadata": {}
    },
    {
      "id": "a11da14a-b2e3-429d-b946-8a72e80ea555",
      "cell_type": "markdown",
      "source": "### Below are a few examples of evaluating arithmetic expressions in Python\n",
      "metadata": {}
    },
    {
      "id": "fd268bbc-fb93-4fcd-8f15-76b19a5190d1",
      "cell_type": "code",
      "source": "# This a simple arithmetic expression to mutiply then add integers\nprint((3*4)+5)",
      "metadata": {
        "trusted": true
      },
      "outputs": [
        {
          "name": "stdout",
          "text": "17\n",
          "output_type": "stream"
        }
      ],
      "execution_count": 1
    },
    {
      "id": "b2f070c7-6ade-4a2e-a75e-b529f43a9e46",
      "cell_type": "code",
      "source": "# This will convert 200 minutes to hours by diving by 60\nprint(200/60)",
      "metadata": {
        "trusted": true
      },
      "outputs": [
        {
          "name": "stdout",
          "text": "3.3333333333333335\n",
          "output_type": "stream"
        }
      ],
      "execution_count": 2
    },
    {
      "id": "d6adfc3d-d223-4243-bb09-aff2f8ad0da1",
      "cell_type": "markdown",
      "source": "## Author\nKhiem",
      "metadata": {}
    },
    {
      "id": "e10b3366-74f8-471f-ba51-36e276e81b9c",
      "cell_type": "code",
      "source": "",
      "metadata": {
        "trusted": true
      },
      "outputs": [],
      "execution_count": null
    }
  ]
}